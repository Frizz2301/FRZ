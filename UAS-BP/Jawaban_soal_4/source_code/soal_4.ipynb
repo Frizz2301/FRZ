{
 "cells": [
  {
   "cell_type": "code",
   "execution_count": null,
   "metadata": {},
   "outputs": [],
   "source": [
    "import sqlite3\n",
    "\n",
    "# Membuka koneksi ke database SQLite\n",
    "conn = sqlite3.connect('example.db')\n",
    "\n",
    "# Membuat objek cursor untuk berinteraksi dengan database\n",
    "cursor = conn.cursor()\n"
   ]
  },
  {
   "cell_type": "code",
   "execution_count": null,
   "metadata": {},
   "outputs": [],
   "source": [
    "import mysql.connector\n",
    "\n",
    "# Membuka koneksi ke database MySQL\n",
    "conn = mysql.connector.connect(\n",
    "    host='localhost',\n",
    "    user='root',\n",
    "    password='password',\n",
    "    database='test_db'\n",
    ")\n",
    "\n",
    "# Membuat objek cursor\n",
    "cursor = conn.cursor()\n"
   ]
  },
  {
   "cell_type": "code",
   "execution_count": null,
   "metadata": {},
   "outputs": [],
   "source": [
    "import psycopg2\n",
    "\n",
    "# Membuka koneksi ke database PostgreSQL\n",
    "conn = psycopg2.connect(\n",
    "    dbname='test_db',\n",
    "    user='user',\n",
    "    password='password',\n",
    "    host='localhost'\n",
    ")\n",
    "\n",
    "# Membuat objek cursor\n",
    "cursor = conn.cursor()\n"
   ]
  },
  {
   "cell_type": "code",
   "execution_count": null,
   "metadata": {},
   "outputs": [],
   "source": [
    "# Menjalankan query SQL untuk membuat tabel\n",
    "cursor.execute('''\n",
    "CREATE TABLE IF NOT EXISTS users (\n",
    "    id INTEGER PRIMARY KEY AUTOINCREMENT,\n",
    "    username TEXT NOT NULL,\n",
    "    email TEXT NOT NULL\n",
    ")\n",
    "''')\n",
    "\n",
    "# Menyimpan perubahan ke database\n",
    "conn.commit()\n",
    "\n",
    "# Menambahkan data ke tabel\n",
    "cursor.execute('''\n",
    "INSERT INTO users (username, email) VALUES (%s, %s)\n",
    "''', ('john_doe', 'john@example.com'))\n",
    "\n",
    "# Menyimpan perubahan ke database\n",
    "conn.commit()\n"
   ]
  },
  {
   "cell_type": "code",
   "execution_count": null,
   "metadata": {},
   "outputs": [],
   "source": [
    "# Menjalankan query SQL untuk mengambil data\n",
    "cursor.execute('SELECT * FROM users')\n",
    "\n",
    "# Mengambil semua hasil\n",
    "rows = cursor.fetchall()\n",
    "\n",
    "for row in rows:\n",
    "    print(row)\n"
   ]
  },
  {
   "cell_type": "code",
   "execution_count": null,
   "metadata": {},
   "outputs": [],
   "source": [
    "# Menutup cursor dan koneksi\n",
    "cursor.close()\n",
    "conn.close()\n"
   ]
  }
 ],
 "metadata": {
  "kernelspec": {
   "display_name": "Python 3",
   "language": "python",
   "name": "python3"
  },
  "language_info": {
   "codemirror_mode": {
    "name": "ipython",
    "version": 3
   },
   "file_extension": ".py",
   "mimetype": "text/x-python",
   "name": "python",
   "nbconvert_exporter": "python",
   "pygments_lexer": "ipython3",
   "version": "3.10.12"
  }
 },
 "nbformat": 4,
 "nbformat_minor": 2
}
