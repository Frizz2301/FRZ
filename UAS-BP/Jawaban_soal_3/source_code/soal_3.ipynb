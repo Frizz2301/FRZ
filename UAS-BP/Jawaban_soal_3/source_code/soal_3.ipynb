{
 "cells": [
  {
   "cell_type": "code",
   "execution_count": null,
   "metadata": {},
   "outputs": [],
   "source": [
    "import tkinter as tk\n",
    "\n",
    "# Membuat jendela utama\n",
    "root = tk.Tk()\n",
    "root.title(\"Contoh GUI Tkinter\")\n",
    "\n",
    "# Menambahkan ukuran jendela\n",
    "root.geometry(\"300x200\")\n",
    "\n",
    "# Menambahkan label\n",
    "label = tk.Label(root, text=\"Halo, ini adalah contoh GUI dengan Tkinter!\")\n",
    "label.pack(pady=20)\n",
    "\n",
    "# Menambahkan tombol\n",
    "def on_button_click():\n",
    "    label.config(text=\"Tombol telah diklik!\")\n",
    "\n",
    "button = tk.Button(root, text=\"Klik Saya\", command=on_button_click)\n",
    "button.pack(pady=10)\n",
    "\n",
    "# Menjalankan aplikasi\n",
    "root.mainloop()\n"
   ]
  }
 ],
 "metadata": {
  "kernelspec": {
   "display_name": "Python 3",
   "language": "python",
   "name": "python3"
  },
  "language_info": {
   "codemirror_mode": {
    "name": "ipython",
    "version": 3
   },
   "file_extension": ".py",
   "mimetype": "text/x-python",
   "name": "python",
   "nbconvert_exporter": "python",
   "pygments_lexer": "ipython3",
   "version": "3.10.12"
  }
 },
 "nbformat": 4,
 "nbformat_minor": 2
}
