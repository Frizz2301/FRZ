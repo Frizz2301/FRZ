{
 "cells": [
  {
   "cell_type": "code",
   "execution_count": null,
   "metadata": {},
   "outputs": [],
   "source": [
    "Definisi:\n",
    "Array di Python adalah struktur yang dapat menyimpan dan mengatur kumpulan data.\n",
    "Struktur data membantu dalam menyimpan, mengatur, mengelompokkan, dan merepresentasikan data.\n",
    "Memahami struktur data sangat penting untuk memecahkan banyak masalah pemrograman.\n",
    "\n",
    "SET :\n",
    "Satu set di Python adalah tipe data kolektif yang digunakan untuk menyimpan beberapa nilai unik dalam satu variabel.\n",
    "Ketentuan untuk set:\n",
    "● Nilai anggota yang disimpan harus unik (tidak ada duplikat).\n",
    "● Nilai anggota tidak dapat diubah setelah dimasukkan.\n",
    "● Kumpulan tidak berurutan dan tidak dapat diakses berdasarkan indeks."
   ]
  },
  {
   "cell_type": "code",
   "execution_count": null,
   "metadata": {},
   "outputs": [],
   "source": [
    "# Using Curly Braces\n",
    "student_set = {'Huda', 'Lendis', 'Wahid', 'Basith'}\n",
    "print(student_set)\n",
    "\n",
    "# Converting List into Set\n",
    "fruit_set = set(['mango', 'Apple'])\n",
    "print(fruit_set)\n",
    "\n",
    "#Set with Different Data Types\n",
    "set_mix = {'man', 'animal', 5, True, ('A', 'B')}\n",
    "print(set_mix)\n"
   ]
  },
  {
   "cell_type": "code",
   "execution_count": null,
   "metadata": {},
   "outputs": [],
   "source": [
    "Keluaran dari Set (Output os Sets)\n",
    "Contoh keluaran dari himpunan berbeda menunjukkan bagaimana elemen ditampilkan secara tidak berurutan.\n",
    "\n",
    "Tidak Terurut (Set)\n",
    "Kumpulan di Python tidak berurutan, artinya Anda tidak dapat mengakses elemen menggunakan indeks."
   ]
  },
  {
   "cell_type": "code",
   "execution_count": null,
   "metadata": {},
   "outputs": [],
   "source": [
    "#Contoh\n",
    "my_set = {'a'}\n",
    "print(my_set[0])\n",
    "\n",
    "\n",
    "student_set = {'Huda', 'Lendis', 'Wahid', 'Basith'}\n",
    "print(student_set)\n"
   ]
  },
  {
   "cell_type": "code",
   "execution_count": null,
   "metadata": {},
   "outputs": [],
   "source": [
    "Outputnya bisa bermacam-macam, misalnya {'Wahid', 'Lendis', 'Basith', 'Huda'}, menunjukkan sifat tidak teratur."
   ]
  },
  {
   "cell_type": "code",
   "execution_count": null,
   "metadata": {},
   "outputs": [],
   "source": [
    "Tidak dapat diubah/Unchangeable (Set)\n",
    "● Kumpulan tidak dapat diubah, artinya Anda tidak dapat mengubah nilai elemen individual setelah ditambahkan.\n",
    "● Namun, Anda dapat menambah dan menghapus elemen dari kumpulan secara keseluruhan.\n",
    "● Kode contoh menunjukkan bahwa urutan elemen dalam suatu himpunan tidak dipertahankan dan elemen tidak dapat diakses melalui indeks."
   ]
  },
  {
   "cell_type": "code",
   "execution_count": null,
   "metadata": {},
   "outputs": [],
   "source": [
    "Kamus/Dictionary\n",
    "● Kamus adalah tipe data dalam Python yang digunakan untuk menyimpan kumpulan nilai data dalam pendekatan \"nilai kunci\".\n",
    "● Komponen kamus:\n",
    "\n",
    "    ● Kunci/Key : Item pertama, yang bertindak sebagai pengidentifikasi.\n",
    "    ● Nilai/Value : Item kedua, yaitu data yang disimpan untuk kunci tersebut.\n",
    "\n",
    "Properties of Dictionary Items:\n",
    "1. Unordered/Tidak dipesan:\n",
    "\n",
    "    ● Item kamus tidak berurutan.\n",
    "    ● Kunci/atribut yang ditentukan pertama kali mungkin bukan yang \"pertama\" ketika diakses nanti.\n",
    "    ● Kamus tidak dapat diakses menggunakan indeks bilangan bulat.\n",
    "\n",
    "2. Changeable/Dapat diubah:\n",
    "\n",
    "    ● Nilai kamus dapat diubah setelah dimasukkan.\n",
    "    ● Ini berbeda dengan himpunan dan tupel, yang tidak dapat diubah.\n",
    "\n",
    "3. Unique/Unik:\n",
    "\n",
    "    ● Setiap kunci dalam kamus harus unik.\n",
    "    ● Jika dua kunci sama, kunci yang terakhir ditentukan akan menimpa nilai kunci yang ditentukan sebelumnya.\n",
    "\n",
    "Creating Dictionary Element/Membuat Elemen Kamus\n",
    "● Ada dua cara untuk membuat kamus dengan Python:\n",
    "    1. Menggunakan kurung kurawal {}.\n",
    "    2. Menggunakan fungsi atau konstruktor dict()."
   ]
  },
  {
   "cell_type": "code",
   "execution_count": null,
   "metadata": {},
   "outputs": [],
   "source": [
    "# Using Curly Braces : \n",
    "book = {\n",
    "    \"title\": \"Fall Leaves Never Hate The Wind\",\n",
    "    \"writer\": \"Tere Liye\"\n",
    "}\n",
    "\n",
    "# Using 'dict()' Constructor :\n",
    " book = dict(\n",
    "    title=\"Fall Leaves Never Hate The Wind\",\n",
    "    author=\"Tere Liye\"\n",
    ")\n"
   ]
  },
  {
   "cell_type": "code",
   "execution_count": null,
   "metadata": {},
   "outputs": [],
   "source": [
    "}\n",
    "'origin': 'Indonesia'\n",
    "del student['name']\n",
    "student.pop('age') student.pop('origin')\n",
    "\n",
    "Apa bedanya menggunakan cara pertama dan cara kedua?\n",
    "\n",
    "Perbedaannya adalah, jika kita menggunakan pop() function, kita mendapatkan return value from the deleted data.\n",
    "\n",
    "Example:\n",
    "short_message = {\n",
    "}\n",
    "\"content\": \"THIS MESSAGE CAN ONLY BE READ ONCE!!\"\n",
    "message_content= short_message.pop('content')\n",
    "# direct access from dictionary\n",
    "# output: None\n",
    "print('message content:', short_message.get('content'))\n",
    "# access to saved returns\n",
    "print('message content:', message_content)\n",
    "\n",
    "Outputs:\n",
    "isi pesan: None\n",
    "ist pesan: ISI PESAN INI HANYA BISA DIBACA SEKALI SAJA!!\n",
    "d. Membership Operators (Dict)\n",
    "\n",
    "Kita dapat menggunakan operator keanggotaan untuk tipe data kamus dengan python.\n",
    "Perhatikan contoh berikut:\n",
    "\n",
    "student = {\n",
    "'name': 'Inspired Renza'"
   ]
  },
  {
   "cell_type": "code",
   "execution_count": null,
   "metadata": {},
   "outputs": [],
   "source": [
    "# will error if the value 100 is not in the set\n",
    "set.remove(100)\n",
    "print(set)\n",
    "\n",
    "# will not error if ('a', 'b') is not in the \n",
    "set set.discard (('a', 'b')) \n",
    "print(set)\n",
    "\n",
    "# remove the value on the left \n",
    "Removedvalue = set.pop()\n",
    "print('Removed value =', valueDeleted) \n",
    "print(set)\n",
    "# delete all values \n",
    "set.clear() \n",
    "print(set)\n",
    "\n",
    "Outputs: \n",
    "(False, True, 100, 'maya', 'budi', ('a', 'b')}\n",
    "(False, True, 'maya', 'budi', ('a', 'b'))\n",
    "(False, True, 'maya', 'budi'}\n",
    "nilaiYangDihapus = False (True, 'maya', 'budi'}\n",
    "set()\n",
    "\n",
    "f. Functions/fungsi (Sets)\n",
    "Berikut ringkasan fungsi bawaan tipe data set yang bisa kita gunakan:\n",
    "Fungsi          Kegunaan\n",
    "\n",
    "add()           Adding one member to the set \n",
    "clear()         Deleting the entire set"
   ]
  },
  {
   "cell_type": "code",
   "execution_count": null,
   "metadata": {},
   "outputs": [],
   "source": [
    "b. Add/Update Dict Elements\n",
    "Untuk menambahkan kunci dan item baru, caranya seperti mengedit item.\n",
    "Jadi: Jika kunci yang kita tentukan sudah ada, sistem akan mengganti item lama dengan yang baru,\n",
    "alias mengeditnya. Namun jika kunci yang kita definisikan tidak ada, sistem akan menambahkannya sebagai item baru.\n",
    "\n",
    "Example:\n",
    "student = {\n",
    "'name': 'Lendis Fabri',\n",
    "'origin': 'Indonesia',}\n",
    "\n",
    "# output None\n",
    "print('Hobby:', student.get('hobby'))\n",
    "\n",
    "# add data\n",
    "student['hobby'] = 'Fishing'\n",
    "\n",
    "# reprint\n",
    "print('Hobby of {} is {}'.format(\n",
    "student.get('name'),\n",
    "student.get('hobby')\n",
    "))\n",
    "\n",
    "Outputs:\n",
    "Hobi: None\n",
    "Hobi dari Lendis Fabri adalah Memancing\n",
    "\n",
    "c. Delete Dict Elements\n",
    "There are two ways to delete an item: \n",
    ". Using the del  statement. \n",
    ". Or use the dictionary.pop() function\n",
    "\n",
    "Consider the following example:\n",
    "student = {\n",
    "'name': 'Wahid Abdullah', 'age': 18,"
   ]
  },
  {
   "cell_type": "code",
   "execution_count": null,
   "metadata": {},
   "outputs": [],
   "source": [
    "symmetric difference() Perform the complement operation between two sets\n",
    "symmetric difference_update() Updating the set of complement results\n",
    "union() Performs a joint operation of two or more sets\n",
    "update() Updating the set by adding a specified value"
   ]
  }
 ],
 "metadata": {
  "language_info": {
   "name": "python"
  }
 },
 "nbformat": 4,
 "nbformat_minor": 2
}
